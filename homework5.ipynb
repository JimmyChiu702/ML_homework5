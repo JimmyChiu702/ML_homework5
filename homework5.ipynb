{
 "cells": [
  {
   "cell_type": "markdown",
   "metadata": {},
   "source": [
    "# Machine Learning Homework 5"
   ]
  },
  {
   "cell_type": "code",
   "execution_count": 104,
   "metadata": {},
   "outputs": [],
   "source": [
    "# import packages\n",
    "import numpy as np\n",
    "import matplotlib.pyplot as plt\n",
    "from libsvm.svmutil import *\n",
    "from scipy.optimize import *\n",
    "from scipy.spatial.distance import *"
   ]
  },
  {
   "cell_type": "markdown",
   "metadata": {},
   "source": [
    "## Gaussian Process"
   ]
  },
  {
   "cell_type": "code",
   "execution_count": 139,
   "metadata": {},
   "outputs": [],
   "source": [
    "# read data from input.data\n",
    "data = []\n",
    "with open('input.data', 'r') as f:\n",
    "    lines = f.readlines()\n",
    "    for line in lines:\n",
    "        x, y = line.split()\n",
    "        data.append([float(x), float(y)])\n",
    "data = np.array(data)"
   ]
  },
  {
   "cell_type": "code",
   "execution_count": 190,
   "metadata": {},
   "outputs": [],
   "source": [
    "# define kernel\n",
    "class rationalQuadraticKernel:\n",
    "    def __init__(self, params):\n",
    "        if params == None:\n",
    "            params = {'var': 1.0, 'ls': 1.0, 'alpha': 1.0}\n",
    "        self.var = params['var']        # variance\n",
    "        self.ls = params['ls']          # length scale\n",
    "        self.alpha = params['alpha']    # alpha\n",
    "        \n",
    "    def k(self, X, Y):\n",
    "        return np.power(self.var,2)*np.power(1+(cdist(X.reshape(-1,1), Y.reshape(-1,1), 'euclidean')/(2*self.alpha*np.power(self.ls,2))),-self.alpha)\n",
    "\n",
    "# define Gaussian process regressor\n",
    "class GaussianProcessRegressor:\n",
    "    def __init__(self, input_data, params=None):\n",
    "        self.train_X = input_data[:, 0]\n",
    "        self.train_Y = input_data[:, 1]\n",
    "        self.beta = 0.2\n",
    "        self.kernel = rationalQuadraticKernel(params)\n",
    "        self.C = self.kernel.k(self.train_X, self.train_X) + np.ones((self.train_X.size, self.train_X.size))*self.beta\n",
    "        self.inv_C = np.linalg.inv(self.C)\n",
    "    \n",
    "    def predict(self, X):\n",
    "        k = np.array([self.kernel.k(X, _X) for _X in self.train_X]).reshape(-1, 1)\n",
    "        Y = k.T.dot(self.inv_C).dot(self.train_Y)\n",
    "        k_star = self.kernel.k(X, X) + self.beta\n",
    "        sigma = k_star - k.T.dot(self.inv_C).dot(k)\n",
    "        \n",
    "        return Y, sigma"
   ]
  },
  {
   "cell_type": "code",
   "execution_count": 191,
   "metadata": {},
   "outputs": [],
   "source": [
    "# predict\n",
    "regressor = GaussianProcessRegressor(data)\n",
    "X = np.linspace(-60, 60, 10000)\n",
    "preds = np.array([regressor.predict(_X) for _X in X])\n",
    "Y = preds[:, 0]\n",
    "sigma = preds[:, 1]"
   ]
  },
  {
   "cell_type": "code",
   "execution_count": 192,
   "metadata": {},
   "outputs": [
    {
     "data": {
      "text/plain": [
       "<ErrorbarContainer object of 3 artists>"
      ]
     },
     "execution_count": 192,
     "metadata": {},
     "output_type": "execute_result"
    },
    {
     "data": {
      "image/png": "[encoded data removed]",
      "text/plain": [
       "<Figure size 432x288 with 1 Axes>"
      ]
     },
     "metadata": {
      "needs_background": "light"
     },
     "output_type": "display_data"
    }
   ],
   "source": [
    "# visualize the result\n",
    "plt.plot(data[:, 0], data[:, 1], 'ro')\n",
    "plt.plot(X, Y, 'b')\n",
    "plt.errorbar(X, Y, yerr=sigma, ecolor='silver')"
   ]
  },
  {
   "cell_type": "markdown",
   "metadata": {},
   "source": [
    "## SVM on MNIST Dataset"
   ]
  },
  {
   "cell_type": "code",
   "execution_count": 203,
   "metadata": {},
   "outputs": [],
   "source": [
    "# load MNIST dataset\n",
    "train_X = np.loadtxt('X_train.csv', dtype=float, delimiter=',')\n",
    "train_Y = np.loadtxt('Y_train.csv', dtype=float, delimiter=',')\n",
    "test_X = np.loadtxt('X_test.csv', dtype=float, delimiter=',')\n",
    "test_Y = np.loadtxt('Y_test.csv', dtype=float, delimiter=',')"
   ]
  },
  {
   "cell_type": "code",
   "execution_count": 204,
   "metadata": {
    "scrolled": false
   },
   "outputs": [
    {
     "name": "stdout",
     "output_type": "stream",
     "text": [
      "Accuracy = 95.08% (2377/2500) (classification)\n",
      "Accuracy = 34.68% (867/2500) (classification)\n",
      "Accuracy = 95.32% (2383/2500) (classification)\n",
      "\n",
      "SVM with linear kernel:        ACC: 95.08%    MSE: 0.1404    SCC: 0.931149803\n",
      "SVM with polynomial kernel:    ACC: 34.68%    MSE: 2.6212    SCC: 0.148875722\n",
      "SVM with RBF kernel:           ACC: 95.32%    MSE: 0.1492    SCC: 0.927186478\n"
     ]
    }
   ],
   "source": [
    "# SVM with different kernel\n",
    "\n",
    "# train\n",
    "model_1 = svm_train(train_Y, train_X, '-t 0')   # linear kernel\n",
    "model_2 = svm_train(train_Y, train_X, '-t 1')   # polynomial kernel\n",
    "model_3 = svm_train(train_Y, train_X, '-t 2')   # RBF kernel\n",
    "\n",
    "# test\n",
    "pred_1, eval_1, val_1 = svm_predict(test_Y, test_X, model_1)\n",
    "pred_2, eval_2, val_2 = svm_predict(test_Y, test_X, model_2)\n",
    "pred_3, eval_3, val_3 = svm_predict(test_Y, test_X, model_3)\n",
    "\n",
    "# print results\n",
    "print()\n",
    "print('SVM with linear kernel:        ACC: {0:2.4}%    MSE: {1:5.4f}    SCC: {2:10.9f}'.format(eval_1[0], eval_1[1], eval_1[2]))\n",
    "print('SVM with polynomial kernel:    ACC: {0:2.4}%    MSE: {1:5.4f}    SCC: {2:10.9f}'.format(eval_2[0], eval_2[1], eval_2[2]))\n",
    "print('SVM with RBF kernel:           ACC: {0:2.4}%    MSE: {1:5.4f}    SCC: {2:10.9f}'.format(eval_3[0], eval_3[1], eval_3[2]))"
   ]
  },
  {
   "cell_type": "code",
   "execution_count": 137,
   "metadata": {
    "scrolled": true
   },
   "outputs": [
    {
     "name": "stdout",
     "output_type": "stream",
     "text": [
      "Cross Validation Accuracy = 78.9%\n",
      "Cross Validation Accuracy = 20.32%\n",
      "Cross Validation Accuracy = 21.76%\n",
      "Cross Validation Accuracy = 42.18%\n",
      "Cross Validation Accuracy = 94.46%\n",
      "Cross Validation Accuracy = 94.26%\n",
      "Cross Validation Accuracy = 90.08%\n",
      "Cross Validation Accuracy = 80.48%\n",
      "Cross Validation Accuracy = 79.54%\n",
      "Cross Validation Accuracy = 79.28%\n",
      "Cross Validation Accuracy = 79.1%\n",
      "Cross Validation Accuracy = 20.32%\n",
      "Cross Validation Accuracy = 21.56%\n",
      "Cross Validation Accuracy = 48.64%\n",
      "Cross Validation Accuracy = 97.04%\n",
      "Cross Validation Accuracy = 96.22%\n",
      "Cross Validation Accuracy = 94.52%\n",
      "Cross Validation Accuracy = 90.18%\n",
      "Cross Validation Accuracy = 79.92%\n",
      "Cross Validation Accuracy = 79.44%\n",
      "Cross Validation Accuracy = 79.08%\n",
      "Cross Validation Accuracy = 20.3%\n",
      "Cross Validation Accuracy = 25.44%\n",
      "Cross Validation Accuracy = 56.26%\n",
      "Cross Validation Accuracy = 98.12%\n",
      "Cross Validation Accuracy = 97.42%\n",
      "Cross Validation Accuracy = 96.22%\n",
      "Cross Validation Accuracy = 94.52%\n",
      "Cross Validation Accuracy = 90.14%\n",
      "Cross Validation Accuracy = 80.08%\n",
      "Cross Validation Accuracy = 20.74%\n",
      "Cross Validation Accuracy = 25.54%\n",
      "Cross Validation Accuracy = 44.52%\n",
      "Cross Validation Accuracy = 85.56%\n",
      "Cross Validation Accuracy = 98.56%\n",
      "Cross Validation Accuracy = 97.9%\n",
      "Cross Validation Accuracy = 97.08%\n",
      "Cross Validation Accuracy = 96%\n",
      "Cross Validation Accuracy = 94.48%\n",
      "Cross Validation Accuracy = 90.32%\n",
      "Cross Validation Accuracy = 20.82%\n",
      "Cross Validation Accuracy = 25.36%\n",
      "Cross Validation Accuracy = 45.32%\n",
      "Cross Validation Accuracy = 85.68%\n",
      "Cross Validation Accuracy = 98.52%\n",
      "Cross Validation Accuracy = 97.9%\n",
      "Cross Validation Accuracy = 97.36%\n",
      "Cross Validation Accuracy = 96.8%\n",
      "Cross Validation Accuracy = 95.96%\n",
      "Cross Validation Accuracy = 94.54%\n",
      "Cross Validation Accuracy = 20.92%\n",
      "Cross Validation Accuracy = 25.6%\n",
      "Cross Validation Accuracy = 45.16%\n",
      "Cross Validation Accuracy = 85.7%\n",
      "Cross Validation Accuracy = 98.62%\n",
      "Cross Validation Accuracy = 98.04%\n",
      "Cross Validation Accuracy = 97.48%\n",
      "Cross Validation Accuracy = 97.02%\n",
      "Cross Validation Accuracy = 96.84%\n",
      "Cross Validation Accuracy = 95.84%\n",
      "Cross Validation Accuracy = 25.9%\n",
      "Cross Validation Accuracy = 25.5%\n",
      "Cross Validation Accuracy = 45.42%\n",
      "Cross Validation Accuracy = 85.42%\n",
      "Cross Validation Accuracy = 98.56%\n",
      "Cross Validation Accuracy = 98.28%\n",
      "Cross Validation Accuracy = 97.4%\n",
      "Cross Validation Accuracy = 97%\n",
      "Cross Validation Accuracy = 97.06%\n",
      "Cross Validation Accuracy = 96.84%\n",
      "Cross Validation Accuracy = 20.9%\n",
      "Cross Validation Accuracy = 25.52%\n",
      "Cross Validation Accuracy = 45%\n",
      "Cross Validation Accuracy = 85.18%\n",
      "Cross Validation Accuracy = 98.58%\n",
      "Cross Validation Accuracy = 98.1%\n",
      "Cross Validation Accuracy = 97.4%\n",
      "Cross Validation Accuracy = 96.58%\n",
      "Cross Validation Accuracy = 96.58%\n",
      "Cross Validation Accuracy = 96.96%\n",
      "Cross Validation Accuracy = 20.86%\n",
      "Cross Validation Accuracy = 25.82%\n",
      "Cross Validation Accuracy = 44.86%\n",
      "Cross Validation Accuracy = 85.88%\n",
      "Cross Validation Accuracy = 98.5%\n",
      "Cross Validation Accuracy = 98.02%\n",
      "Cross Validation Accuracy = 97.3%\n",
      "Cross Validation Accuracy = 97%\n",
      "Cross Validation Accuracy = 96.16%\n",
      "Cross Validation Accuracy = 96.76%\n",
      "Cross Validation Accuracy = 20.6%\n",
      "Cross Validation Accuracy = 25.62%\n",
      "Cross Validation Accuracy = 46.34%\n",
      "Cross Validation Accuracy = 85.32%\n",
      "Cross Validation Accuracy = 98.56%\n",
      "Cross Validation Accuracy = 98.1%\n",
      "Cross Validation Accuracy = 97.26%\n",
      "Cross Validation Accuracy = 96.78%\n",
      "Cross Validation Accuracy = 96.4%\n",
      "Cross Validation Accuracy = 96.56%\n",
      "Cross Validation Accuracy = 20.68%\n",
      "Cross Validation Accuracy = 25.46%\n",
      "Cross Validation Accuracy = 45.7%\n",
      "Cross Validation Accuracy = 85.78%\n",
      "Cross Validation Accuracy = 98.52%\n",
      "Cross Validation Accuracy = 98.14%\n",
      "Cross Validation Accuracy = 97.4%\n",
      "Cross Validation Accuracy = 96.86%\n",
      "Cross Validation Accuracy = 96.26%\n",
      "Cross Validation Accuracy = 96.04%\n",
      "Accuracy = 98.52% (2463/2500) (classification)\n",
      "\n",
      "Grid search result:    ACC: 98.52%    MSE: 0.0500    SCC: 0.975087934\n",
      "Parameters:    C: 32    gamma: 0.03125\n"
     ]
    }
   ],
   "source": [
    "# grid search\n",
    "\n",
    "# define parameter list\n",
    "C_list = [pow(2, i) for i in range(-5, 16, 2)]\n",
    "gamma_list = [pow(2, i) for i in range(3, -16, -2)]\n",
    "\n",
    "# tune parameters\n",
    "max_acc = 0\n",
    "best_C = 0\n",
    "best_gamma = 0\n",
    "for C in C_list:\n",
    "    for gamma in gamma_list:\n",
    "        acc = svm_train(train_Y, train_X, '-s 0 -t 2 -v 4 -c {} -g {}'.format(C, gamma))\n",
    "        \n",
    "        if acc > max_acc:\n",
    "            max_acc = acc\n",
    "            best_C = C\n",
    "            best_gamma = gamma\n",
    "\n",
    "model = svm_train(train_Y, train_X, '-s 0 -t 2 -c {} -g {}'.format(best_C, best_gamma))\n",
    "\n",
    "# test\n",
    "pred, eval, val = svm_predict(test_Y, test_X, model)\n",
    "\n",
    "# print result\n",
    "print()\n",
    "print('Grid search result:    ACC: {0:2.4}%    MSE: {1:5.4f}    SCC: {2:10.9f}'.format(eval[0], eval[1], eval[2]))\n",
    "print('Parameters:    C: {}    gamma: {}'.format(best_C, best_gamma))"
   ]
  },
  {
   "cell_type": "code",
   "execution_count": 217,
   "metadata": {},
   "outputs": [
    {
     "name": "stdout",
     "output_type": "stream",
     "text": [
      "Accuracy = 95.24% (2381/2500) (classification)\n",
      "SVM with linear kernel + RBF kernel:    ACC: 95.24%    MSE: 0.1364    SCC: 0.933081737\n"
     ]
    }
   ],
   "source": [
    "# SVM with linear kernel + RBF kernel\n",
    "\n",
    "# define kernels\n",
    "def linear_kernel(X, Y):\n",
    "    k = np.zeros((len(X), len(Y)+1))\n",
    "    k[:, 1:] = np.dot(X, Y.T)\n",
    "    k[:, :1] = np.arange(len(X))[:,np.newaxis]+1\n",
    "    return np.dot(X, Y.T)\n",
    "\n",
    "def RBF_kernel(X, Y, gamma=0.05):\n",
    "    return np.exp(-gamma*cdist(X, Y, 'euclidean'))\n",
    "\n",
    "def mixed_kernel(X, Y):\n",
    "    k = np.zeros((len(X), len(Y)+1))\n",
    "    k[:, 1:] = linear_kernel(X, Y) + RBF_kernel(X, Y)\n",
    "    k[:, :1] = np.arange(len(X)).reshape(-1, 1)+1\n",
    "    return k\n",
    "\n",
    "# precompute kernel\n",
    "train_K = mixed_kernel(train_X, train_X)\n",
    "test_K = mixed_kernel(test_X, train_X)\n",
    "\n",
    "# train\n",
    "model = svm_train(train_Y, train_K, '-t 4')\n",
    "\n",
    "# test\n",
    "pred, eval, val = svm_predict(test_Y, test_K, model)\n",
    "\n",
    "# print result\n",
    "print('SVM with linear kernel + RBF kernel:    ACC: {0:2.4}%    MSE: {1:5.4f}    SCC: {2:10.9f}'.format(eval[0], eval[1], eval[2]))"
   ]
  },
  {
   "cell_type": "code",
   "execution_count": null,
   "metadata": {},
   "outputs": [],
   "source": []
  }
 ],
 "metadata": {
  "kernelspec": {
   "display_name": "Python 3",
   "language": "python",
   "name": "python3"
  },
  "language_info": {
   "codemirror_mode": {
    "name": "ipython",
    "version": 3
   },
   "file_extension": ".py",
   "mimetype": "text/x-python",
   "name": "python",
   "nbconvert_exporter": "python",
   "pygments_lexer": "ipython3",
   "version": "3.6.5"
  }
 },
 "nbformat": 4,
 "nbformat_minor": 2
}
